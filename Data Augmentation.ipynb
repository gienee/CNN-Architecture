{
 "cells": [
  {
   "cell_type": "code",
   "execution_count": 1,
   "id": "4d97b0f6",
   "metadata": {},
   "outputs": [
    {
     "name": "stdout",
     "output_type": "stream",
     "text": [
      "Collecting Augmentor\n",
      "  Downloading Augmentor-0.2.12-py2.py3-none-any.whl (38 kB)\n",
      "Requirement already satisfied: numpy>=1.11.0 in c:\\users\\nikit\\anaconda3\\lib\\site-packages (from Augmentor) (1.23.5)\n",
      "Requirement already satisfied: Pillow>=5.2.0 in c:\\users\\nikit\\anaconda3\\lib\\site-packages (from Augmentor) (9.4.0)\n",
      "Requirement already satisfied: tqdm>=4.9.0 in c:\\users\\nikit\\anaconda3\\lib\\site-packages (from Augmentor) (4.64.1)\n",
      "Requirement already satisfied: colorama in c:\\users\\nikit\\anaconda3\\lib\\site-packages (from tqdm>=4.9.0->Augmentor) (0.4.6)\n",
      "Installing collected packages: Augmentor\n",
      "Successfully installed Augmentor-0.2.12\n"
     ]
    }
   ],
   "source": [
    "!pip install Augmentor"
   ]
  },
  {
   "cell_type": "code",
   "execution_count": 3,
   "id": "f0a3d2c7",
   "metadata": {},
   "outputs": [
    {
     "name": "stdout",
     "output_type": "stream",
     "text": [
      "Initialised with 5 image(s) found.\n",
      "Output directory set to C:\\Users\\nikit\\Downloads\\dataAugmentation\\dataAugmentation\\imgs\\output."
     ]
    }
   ],
   "source": [
    "import Augmentor\n",
    "p = Augmentor.Pipeline(\"C:\\\\Users\\\\nikit\\\\Downloads\\\\dataAugmentation\\\\dataAugmentation\\\\imgs\")"
   ]
  },
  {
   "cell_type": "code",
   "execution_count": null,
   "id": "458e95c7",
   "metadata": {},
   "outputs": [],
   "source": [
    "### Rotating\n",
    "\n",
    "\"\"\"\" Rotating can be performed in a number of ways. When rotating by modulo 90, the image is simply rotated and saved. To rotate by arbitrary degrees, then a crop is taken from the centre of the newly rotated image.\n",
    "\n",
    "Rotate functions that are available are:\n",
    "\n",
    "-    rotate()\n",
    "-    rotate90()\n",
    "-    rotate180()\n",
    "-    rotate270()\n",
    "-    rotate_random_90()\"\"\"\n"
   ]
  },
  {
   "cell_type": "code",
   "execution_count": null,
   "id": "7ad50096",
   "metadata": {},
   "outputs": [],
   "source": [
    "#### Abouth the probabilty argument\n",
    "\n",
    "# probability – A value between 0 and 1 representing the probability that the operation should be performed."
   ]
  },
  {
   "cell_type": "code",
   "execution_count": 7,
   "id": "cd77d786",
   "metadata": {},
   "outputs": [],
   "source": [
    "p.rotate(probability=0.3, max_left_rotation=10, max_right_rotation=10)   #take 30% of total images and convert it into left rotating and right rotating"
   ]
  },
  {
   "cell_type": "code",
   "execution_count": 8,
   "id": "431707d2",
   "metadata": {},
   "outputs": [],
   "source": [
    "p.rotate90(probability=0.3)"
   ]
  },
  {
   "cell_type": "code",
   "execution_count": 9,
   "id": "a2f332fb",
   "metadata": {},
   "outputs": [],
   "source": [
    "p.rotate270(probability=0.3)"
   ]
  },
  {
   "cell_type": "code",
   "execution_count": 10,
   "id": "0a004d9b",
   "metadata": {},
   "outputs": [],
   "source": [
    "### Flipping\n",
    "\n",
    "# Flip (mirror) the image along its horizontal axis, i.e. from left to right."
   ]
  },
  {
   "cell_type": "code",
   "execution_count": 11,
   "id": "196533bf",
   "metadata": {},
   "outputs": [],
   "source": [
    "p.flip_left_right(probability=0.3)  ## Take 30% of total images and flip it from left to right"
   ]
  },
  {
   "cell_type": "code",
   "execution_count": 12,
   "id": "e0b5f103",
   "metadata": {},
   "outputs": [],
   "source": [
    "# Flip (mirror) the image along its vertical axis, i.e. from top to bottom."
   ]
  },
  {
   "cell_type": "code",
   "execution_count": 13,
   "id": "1ee73e82",
   "metadata": {},
   "outputs": [],
   "source": [
    "p.flip_top_bottom(probability=0.3)"
   ]
  },
  {
   "cell_type": "code",
   "execution_count": null,
   "id": "05f36518",
   "metadata": {},
   "outputs": [],
   "source": [
    "### Cropping\n",
    "\"\"\"\"\n",
    "Crop a random area of an image, based on the percentage area to be returned.\n",
    "\n",
    "This function crops a random area from an image, based on the area you specify using percentage_area.\"\"\""
   ]
  },
  {
   "cell_type": "code",
   "execution_count": 14,
   "id": "6e34d6cf",
   "metadata": {},
   "outputs": [],
   "source": [
    "p.crop_random(probability=.1, percentage_area=0.5)   "
   ]
  },
  {
   "cell_type": "code",
   "execution_count": null,
   "id": "b05b7c47",
   "metadata": {},
   "outputs": [],
   "source": [
    "\"\"\"\"\n",
    "percentage_area (Float) – The area, as a percentage of the current image’s area, to crop.\n",
    "- randomise_percentage_area (Boolean) – If True, will use percentage_area as an upper bound and randomise the crop from between 0 and percentage_area."
   ]
  },
  {
   "cell_type": "code",
   "execution_count": 15,
   "id": "fa07f52a",
   "metadata": {},
   "outputs": [],
   "source": [
    "### Resizing\n",
    "\n",
    "# Resize an image according to a set of dimensions specified by the user in pixels."
   ]
  },
  {
   "cell_type": "code",
   "execution_count": 16,
   "id": "776b3395",
   "metadata": {},
   "outputs": [],
   "source": [
    "p.resize(probability=0.1, width=100, height=100)  #Take 10% of total images and resize it with width of 100 and height of 100"
   ]
  },
  {
   "cell_type": "code",
   "execution_count": 17,
   "id": "9fcebe11",
   "metadata": {},
   "outputs": [],
   "source": [
    "### Random Brightness\n",
    "\n",
    "# Random change brightness of an image.\n",
    "\n",
    "# - min_factor – The value between 0.0 and max_factor that define the minimum adjustment of image brightness. The value 0.0 gives a black image, value 1.0 gives the original image, value bigger than 1.0 gives more bright image.\n",
    "\n",
    "# - max_factor – A value should be bigger than min_factor that define the maximum adjustment of image brightness. The value 0.0 gives a black image, value 1.0 gives the original image, value bigger than 1.0 gives more bright image."
   ]
  },
  {
   "cell_type": "code",
   "execution_count": 18,
   "id": "023c549b",
   "metadata": {},
   "outputs": [],
   "source": [
    "p.random_brightness(probability = 0.5, min_factor=0.4, max_factor=0.9)"
   ]
  },
  {
   "cell_type": "code",
   "execution_count": null,
   "id": "4ac8d2d8",
   "metadata": {},
   "outputs": [],
   "source": [
    "### Random Contrast\n",
    "\n",
    "# Random change image contrast.\n",
    "\n",
    "# - min_factor – The value between 0.0 and max_factor that define the minimum adjustment of image contrast. The value 0.0 gives s solid grey image, value 1.0 gives the original image.\n",
    "# - max_factor – A value should be bigger than min_factor that define the maximum adjustment of image contrast. The value 0.0 gives s solid grey image, value 1.0 gives the original image."
   ]
  },
  {
   "cell_type": "code",
   "execution_count": 19,
   "id": "a4b071ba",
   "metadata": {},
   "outputs": [],
   "source": [
    "p.random_contrast(probability=0.5, min_factor=0.9, max_factor=1.4)"
   ]
  },
  {
   "cell_type": "code",
   "execution_count": null,
   "id": "42c5e178",
   "metadata": {},
   "outputs": [],
   "source": [
    "### Random distortion\n",
    "\n",
    "# Random distortions allow you to make distortions to an image while maintaining the image’s aspect ratio.\n",
    "\n",
    "\n",
    "# This function performs a randomised, elastic distortion controlled by the parameters specified. The grid width and height controls how fine the distortions are. Smaller sizes will result in larger, more pronounced, and less granular distortions. Larger numbers will result in finer, more granular distortions. The magnitude of the distortions can be controlled using magnitude."
   ]
  },
  {
   "cell_type": "code",
   "execution_count": 20,
   "id": "1f3a5748",
   "metadata": {},
   "outputs": [],
   "source": [
    "p.random_distortion(probability=0.5, grid_width=7, grid_height=8, magnitude=9)"
   ]
  },
  {
   "cell_type": "code",
   "execution_count": 21,
   "id": "3ebdc27d",
   "metadata": {},
   "outputs": [],
   "source": [
    "## Random Erasing\n",
    "\n",
    "-#  rectangle_area – The percentage area of the image to occlude with the random rectangle, between 0.1 and 1."
   ]
  },
  {
   "cell_type": "code",
   "execution_count": 22,
   "id": "3ec3fa58",
   "metadata": {},
   "outputs": [],
   "source": [
    "p.random_erasing(probability=0.5, rectangle_area=0.2)"
   ]
  },
  {
   "cell_type": "code",
   "execution_count": 23,
   "id": "9c55b65f",
   "metadata": {},
   "outputs": [],
   "source": [
    "### Zooming\n",
    "\n",
    "# Zoom in to an image, while maintaining its size. The amount by which the image is zoomed is a randomly chosen value between min_factor and max_factor.\n",
    "\n",
    "# - min_factor (Float) – The minimum factor by which to zoom the image.\n",
    "# - max_factor (Float) – The maximum factor by which to zoom the image."
   ]
  },
  {
   "cell_type": "code",
   "execution_count": 24,
   "id": "284bc986",
   "metadata": {},
   "outputs": [],
   "source": [
    "p.zoom(probability=0.7, min_factor=1.1, max_factor=1.5)"
   ]
  },
  {
   "cell_type": "code",
   "execution_count": 25,
   "id": "a9614e4e",
   "metadata": {},
   "outputs": [
    {
     "name": "stderr",
     "output_type": "stream",
     "text": [
      "Processing <PIL.Image.Image image mode=RGB size=720x1280 at 0x1C261A269E0>: 100%|█| 100/100 [00:05<00:00, 19.48 Samples\n"
     ]
    }
   ],
   "source": [
    "# Change the samples size according to requirements\n",
    "p.sample(100)"
   ]
  },
  {
   "cell_type": "code",
   "execution_count": null,
   "id": "fbcf097f",
   "metadata": {},
   "outputs": [],
   "source": []
  }
 ],
 "metadata": {
  "kernelspec": {
   "display_name": "Python 3 (ipykernel)",
   "language": "python",
   "name": "python3"
  },
  "language_info": {
   "codemirror_mode": {
    "name": "ipython",
    "version": 3
   },
   "file_extension": ".py",
   "mimetype": "text/x-python",
   "name": "python",
   "nbconvert_exporter": "python",
   "pygments_lexer": "ipython3",
   "version": "3.10.9"
  }
 },
 "nbformat": 4,
 "nbformat_minor": 5
}
