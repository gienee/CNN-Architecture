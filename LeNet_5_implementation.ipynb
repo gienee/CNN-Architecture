{
  "nbformat": 4,
  "nbformat_minor": 0,
  "metadata": {
    "colab": {
      "provenance": []
    },
    "kernelspec": {
      "name": "python3",
      "display_name": "Python 3"
    },
    "language_info": {
      "name": "python"
    }
  },
  "cells": [
    {
      "cell_type": "code",
      "execution_count": 1,
      "metadata": {
        "id": "rq1mvwa02zM5"
      },
      "outputs": [],
      "source": [
        "import keras\n",
        "from keras.datasets import mnist\n",
        "from keras.layers import Conv2D, MaxPooling2D\n",
        "from keras.layers import Dense, Flatten\n",
        "from keras.models import Sequential"
      ]
    },
    {
      "cell_type": "code",
      "source": [
        "# Loading the dataset and perform splitting\n",
        "(x_train, y_train), (x_test, y_test) = mnist.load_data()\n",
        "# Peforming reshaping operation\n",
        "x_train = x_train.reshape(x_train.shape[0], 28, 28, 1)\n",
        "x_test = x_test.reshape(x_test.shape[0], 28, 28, 1)"
      ],
      "metadata": {
        "colab": {
          "base_uri": "https://localhost:8080/"
        },
        "id": "3_rdgNWr39qr",
        "outputId": "6010b08d-18c7-4723-df02-5e2dc95d3cdb"
      },
      "execution_count": 2,
      "outputs": [
        {
          "output_type": "stream",
          "name": "stdout",
          "text": [
            "Downloading data from https://storage.googleapis.com/tensorflow/tf-keras-datasets/mnist.npz\n",
            "11490434/11490434 [==============================] - 0s 0us/step\n"
          ]
        }
      ]
    },
    {
      "cell_type": "code",
      "source": [
        "# Normalization   ##Converting them in the the range of 0 to 1 i.e the method of normalization or standaradization\n",
        "x_train = x_train / 255\n",
        "x_test = x_test / 255"
      ],
      "metadata": {
        "id": "ivy-FT4H4HUC"
      },
      "execution_count": 3,
      "outputs": []
    },
    {
      "cell_type": "code",
      "source": [
        "# One Hot Encoding                                             ##converting the categorical into int of either 0 or 1\n",
        "y_train = keras.utils.to_categorical(y_train, 10)\n",
        "y_test = keras.utils.to_categorical(y_test, 10)"
      ],
      "metadata": {
        "id": "zM9L_G_74aU1"
      },
      "execution_count": 4,
      "outputs": []
    },
    {
      "cell_type": "code",
      "source": [
        "# Building the Model Architecture\n",
        "\n",
        "model = Sequential()\n",
        "# Select 6 feature convolution kernels with a size of 5 * 5 (without offset), and get 66 feature maps. The size of each feature map is 32−5 + 1 = 2832−5 + 1 = 28.\n",
        "# That is, the number of neurons has been reduced from 10241024 to 28 ∗ 28 = 784 28 ∗ 28 = 784.\n",
        "# Parameters between input layer and C1 layer: 6 ∗ (5 ∗ 5 + 1)\n",
        "model.add(Conv2D(6, kernel_size=(5, 5), activation='relu', input_shape=(28, 28, 1)))\n",
        "# The input of this layer is the output of the first layer, which is a 28 * 28 * 6 node matrix.\n",
        "# The size of the filter used in this layer is 2 * 2, and the step length and width are both 2, so the output matrix size of this layer is 14 * 14 * 6.\n",
        "model.add(MaxPooling2D(pool_size=(2, 2)))\n",
        "# The input matrix size of this layer is 14 * 14 * 6, the filter size used is 5 * 5, and the depth is 16. This layer does not use all 0 padding, and the step size is 1.\n",
        "# The output matrix size of this layer is 10 * 10 * 16. This layer has 5 * 5 * 6 * 16 + 16 = 2416 parameters\n",
        "model.add(Conv2D(16, kernel_size=(5, 5), activation='relu'))\n",
        "# The input matrix size of this layer is 10 * 10 * 16. The size of the filter used in this layer is 2 * 2, and the length and width steps are both 2, so the output matrix size of this layer is 5 * 5 * 16.\n",
        "model.add(MaxPooling2D(pool_size=(2, 2)))\n",
        "# The input matrix size of this layer is 5 * 5 * 16. This layer is called a convolution layer in the LeNet-5 paper, but because the size of the filter is 5 * 5, #\n",
        "# So it is not different from the fully connected layer. If the nodes in the 5 * 5 * 16 matrix are pulled into a vector, then this layer is the same as the fully connected layer.\n",
        "# The number of output nodes in this layer is 120, with a total of 5 * 5 * 16 * 120 + 120 = 48120 parameters.\n",
        "model.add(Flatten())\n",
        "model.add(Dense(120, activation='relu'))\n",
        "# The number of input nodes in this layer is 120 and the number of output nodes is 84. The total parameter is 120 * 84 + 84 = 10164 (w + b)\n",
        "model.add(Dense(84, activation='relu'))\n",
        "# The number of input nodes in this layer is 84 and the number of output nodes is 10. The total parameter is 84 * 10 + 10 = 850\n",
        "model.add(Dense(10, activation='softmax'))\n",
        "\n",
        "model.summary()"
      ],
      "metadata": {
        "colab": {
          "base_uri": "https://localhost:8080/"
        },
        "id": "jcY6Kj2c5Rsu",
        "outputId": "bf644ca8-7fe8-4f27-c8ff-03bde79c6851"
      },
      "execution_count": 5,
      "outputs": [
        {
          "output_type": "stream",
          "name": "stdout",
          "text": [
            "Model: \"sequential\"\n",
            "_________________________________________________________________\n",
            " Layer (type)                Output Shape              Param #   \n",
            "=================================================================\n",
            " conv2d (Conv2D)             (None, 24, 24, 6)         156       \n",
            "                                                                 \n",
            " max_pooling2d (MaxPooling2D  (None, 12, 12, 6)        0         \n",
            " )                                                               \n",
            "                                                                 \n",
            " conv2d_1 (Conv2D)           (None, 8, 8, 16)          2416      \n",
            "                                                                 \n",
            " max_pooling2d_1 (MaxPooling  (None, 4, 4, 16)         0         \n",
            " 2D)                                                             \n",
            "                                                                 \n",
            " flatten (Flatten)           (None, 256)               0         \n",
            "                                                                 \n",
            " dense (Dense)               (None, 120)               30840     \n",
            "                                                                 \n",
            " dense_1 (Dense)             (None, 84)                10164     \n",
            "                                                                 \n",
            " dense_2 (Dense)             (None, 10)                850       \n",
            "                                                                 \n",
            "=================================================================\n",
            "Total params: 44,426\n",
            "Trainable params: 44,426\n",
            "Non-trainable params: 0\n",
            "_________________________________________________________________\n"
          ]
        }
      ]
    },
    {
      "cell_type": "code",
      "source": [
        "## Compile and train the model\n",
        "\n",
        "model.compile(loss=keras.metrics.categorical_crossentropy, optimizer=keras.optimizers.Adam(), metrics=['accuracy'])\n",
        "model.fit(x_train, y_train, batch_size=128, epochs=20, verbose=1, validation_data=(x_test, y_test))"
      ],
      "metadata": {
        "colab": {
          "base_uri": "https://localhost:8080/"
        },
        "id": "IOHBYKDc5Y9j",
        "outputId": "be43365d-5530-4330-a557-8b0639ef36e9"
      },
      "execution_count": 6,
      "outputs": [
        {
          "output_type": "stream",
          "name": "stdout",
          "text": [
            "Epoch 1/20\n",
            "469/469 [==============================] - 17s 34ms/step - loss: 0.3007 - accuracy: 0.9167 - val_loss: 0.0787 - val_accuracy: 0.9768\n",
            "Epoch 2/20\n",
            "469/469 [==============================] - 16s 34ms/step - loss: 0.0824 - accuracy: 0.9747 - val_loss: 0.0665 - val_accuracy: 0.9791\n",
            "Epoch 3/20\n",
            "469/469 [==============================] - 17s 36ms/step - loss: 0.0590 - accuracy: 0.9823 - val_loss: 0.0451 - val_accuracy: 0.9847\n",
            "Epoch 4/20\n",
            "469/469 [==============================] - 16s 33ms/step - loss: 0.0463 - accuracy: 0.9852 - val_loss: 0.0390 - val_accuracy: 0.9882\n",
            "Epoch 5/20\n",
            "469/469 [==============================] - 16s 34ms/step - loss: 0.0394 - accuracy: 0.9875 - val_loss: 0.0311 - val_accuracy: 0.9889\n",
            "Epoch 6/20\n",
            "469/469 [==============================] - 17s 35ms/step - loss: 0.0330 - accuracy: 0.9899 - val_loss: 0.0405 - val_accuracy: 0.9862\n",
            "Epoch 7/20\n",
            "469/469 [==============================] - 16s 34ms/step - loss: 0.0275 - accuracy: 0.9914 - val_loss: 0.0388 - val_accuracy: 0.9876\n",
            "Epoch 8/20\n",
            "469/469 [==============================] - 16s 35ms/step - loss: 0.0247 - accuracy: 0.9923 - val_loss: 0.0331 - val_accuracy: 0.9892\n",
            "Epoch 9/20\n",
            "469/469 [==============================] - 16s 35ms/step - loss: 0.0213 - accuracy: 0.9934 - val_loss: 0.0308 - val_accuracy: 0.9907\n",
            "Epoch 10/20\n",
            "469/469 [==============================] - 16s 33ms/step - loss: 0.0195 - accuracy: 0.9939 - val_loss: 0.0449 - val_accuracy: 0.9870\n",
            "Epoch 11/20\n",
            "469/469 [==============================] - 17s 35ms/step - loss: 0.0168 - accuracy: 0.9944 - val_loss: 0.0339 - val_accuracy: 0.9889\n",
            "Epoch 12/20\n",
            "469/469 [==============================] - 16s 34ms/step - loss: 0.0147 - accuracy: 0.9952 - val_loss: 0.0355 - val_accuracy: 0.9893\n",
            "Epoch 13/20\n",
            "469/469 [==============================] - 16s 33ms/step - loss: 0.0145 - accuracy: 0.9954 - val_loss: 0.0296 - val_accuracy: 0.9912\n",
            "Epoch 14/20\n",
            "469/469 [==============================] - 17s 35ms/step - loss: 0.0124 - accuracy: 0.9958 - val_loss: 0.0323 - val_accuracy: 0.9912\n",
            "Epoch 15/20\n",
            "469/469 [==============================] - 16s 33ms/step - loss: 0.0105 - accuracy: 0.9963 - val_loss: 0.0408 - val_accuracy: 0.9895\n",
            "Epoch 16/20\n",
            "469/469 [==============================] - 16s 33ms/step - loss: 0.0119 - accuracy: 0.9961 - val_loss: 0.0291 - val_accuracy: 0.9917\n",
            "Epoch 17/20\n",
            "469/469 [==============================] - 17s 35ms/step - loss: 0.0095 - accuracy: 0.9967 - val_loss: 0.0360 - val_accuracy: 0.9897\n",
            "Epoch 18/20\n",
            "469/469 [==============================] - 16s 33ms/step - loss: 0.0100 - accuracy: 0.9966 - val_loss: 0.0379 - val_accuracy: 0.9893\n",
            "Epoch 19/20\n",
            "469/469 [==============================] - 16s 33ms/step - loss: 0.0086 - accuracy: 0.9972 - val_loss: 0.0354 - val_accuracy: 0.9906\n",
            "Epoch 20/20\n",
            "469/469 [==============================] - 17s 35ms/step - loss: 0.0066 - accuracy: 0.9979 - val_loss: 0.0384 - val_accuracy: 0.9903\n"
          ]
        },
        {
          "output_type": "execute_result",
          "data": {
            "text/plain": [
              "<keras.callbacks.History at 0x7ded80046890>"
            ]
          },
          "metadata": {},
          "execution_count": 6
        }
      ]
    },
    {
      "cell_type": "code",
      "source": [
        "score = model.evaluate(x_test, y_test)\n",
        "print('Test Loss:', score[0])\n",
        "print('Test accuracy:', score[1])"
      ],
      "metadata": {
        "colab": {
          "base_uri": "https://localhost:8080/"
        },
        "id": "9sSrTyfR5xm7",
        "outputId": "c5b3f086-919a-498b-cadd-338b5ce11087"
      },
      "execution_count": 9,
      "outputs": [
        {
          "output_type": "stream",
          "name": "stdout",
          "text": [
            "313/313 [==============================] - 1s 4ms/step - loss: 0.0384 - accuracy: 0.9903\n",
            "Test Loss: 0.03838679566979408\n",
            "Test accuracy: 0.9902999997138977\n"
          ]
        }
      ]
    },
    {
      "cell_type": "code",
      "source": [],
      "metadata": {
        "id": "Tw8JFB2z7Imb"
      },
      "execution_count": null,
      "outputs": []
    }
  ]
}